{
 "cells": [
  {
   "cell_type": "code",
   "execution_count": 1,
   "id": "c2896c93",
   "metadata": {
    "_cell_guid": "b1076dfc-b9ad-4769-8c92-a6c4dae69d19",
    "_uuid": "8f2839f25d086af736a60e9eeb907d3b93b6e0e5",
    "execution": {
     "iopub.execute_input": "2025-03-10T12:54:47.096145Z",
     "iopub.status.busy": "2025-03-10T12:54:47.095801Z",
     "iopub.status.idle": "2025-03-10T12:54:50.115293Z",
     "shell.execute_reply": "2025-03-10T12:54:50.114175Z"
    },
    "papermill": {
     "duration": 3.02581,
     "end_time": "2025-03-10T12:54:50.117057",
     "exception": false,
     "start_time": "2025-03-10T12:54:47.091247",
     "status": "completed"
    },
    "tags": []
   },
   "outputs": [
    {
     "name": "stdout",
     "output_type": "stream",
     "text": [
      "/kaggle/input/adamnea-monthly-data-apr2024-feb2025/hive_weights_APR_FEB_hive1.csv\n",
      "/kaggle/input/adamnea-monthly-data-apr2024-feb2025/hive_temperatures_APR_FEB_hive1.csv\n",
      "/kaggle/input/adamnea-monthly-data-apr2024-feb2025/hive_humidity_APR_FEB_hive1.csv\n",
      "/kaggle/input/adamnea-monthly-data-apr2024-feb2025/hive_carbondioxide_APR_FEB_hive1.csv\n"
     ]
    }
   ],
   "source": [
    "# This Python 3 environment comes with many helpful analytics libraries installed\n",
    "# It is defined by the kaggle/python Docker image: https://github.com/kaggle/docker-python\n",
    "# For example, here's several helpful packages to load\n",
    "\n",
    "import numpy as np # linear algebra\n",
    "import pandas as pd # data processing, CSV file I/O (e.g. pd.read_csv)\n",
    "import matplotlib.pyplot as plt\n",
    "import seaborn as sns\n",
    "%matplotlib inline\n",
    "\n",
    "# Input data files are available in the read-only \"../input/\" directory\n",
    "# For example, running this (by clicking run or pressing Shift+Enter) will list all files under the input directory\n",
    "\n",
    "import os\n",
    "for dirname, _, filenames in os.walk('/kaggle/input'):\n",
    "    for filename in filenames:\n",
    "        print(os.path.join(dirname, filename))\n",
    "\n",
    "# You can write up to 20GB to the current directory (/kaggle/working/) that gets preserved as output when you create a version using \"Save & Run All\" \n",
    "# You can also write temporary files to /kaggle/temp/, but they won't be saved outside of the current session"
   ]
  },
  {
   "cell_type": "code",
   "execution_count": 2,
   "id": "9b847d63",
   "metadata": {
    "execution": {
     "iopub.execute_input": "2025-03-10T12:54:50.124357Z",
     "iopub.status.busy": "2025-03-10T12:54:50.123846Z",
     "iopub.status.idle": "2025-03-10T12:54:50.206852Z",
     "shell.execute_reply": "2025-03-10T12:54:50.205844Z"
    },
    "papermill": {
     "duration": 0.088501,
     "end_time": "2025-03-10T12:54:50.208724",
     "exception": false,
     "start_time": "2025-03-10T12:54:50.120223",
     "status": "completed"
    },
    "tags": []
   },
   "outputs": [],
   "source": [
    "# Load the data and set the 'created_at' column as the index\n",
    "carbondioxide = pd.read_csv('/kaggle/input/adamnea-monthly-data-apr2024-feb2025/hive_carbondioxide_APR_FEB_hive1.csv', index_col='created_at')\n",
    "humidity = pd.read_csv('/kaggle/input/adamnea-monthly-data-apr2024-feb2025/hive_humidity_APR_FEB_hive1.csv', index_col='created_at')\n",
    "temperatures = pd.read_csv('/kaggle/input/adamnea-monthly-data-apr2024-feb2025/hive_temperatures_APR_FEB_hive1.csv', index_col='created_at')\n",
    "weights = pd.read_csv('/kaggle/input/adamnea-monthly-data-apr2024-feb2025/hive_weights_APR_FEB_hive1.csv', index_col='created_at')\n",
    "\n",
    "# Convert the index to datetime\n",
    "carbondioxide.index = pd.to_datetime(carbondioxide.index)\n",
    "humidity.index = pd.to_datetime(humidity.index)\n",
    "temperatures.index = pd.to_datetime(temperatures.index)\n",
    "weights.index = pd.to_datetime(weights.index)\n",
    "\n",
    "\n",
    "# Check for and remove duplicates in the index\n",
    "humidity = humidity[~humidity.index.duplicated(keep='first')]\n",
    "carbondioxide = carbondioxide[~carbondioxide.index.duplicated(keep='first')]\n",
    "temperatures = temperatures[~temperatures.index.duplicated(keep='first')]\n",
    "weights = weights[~weights.index.duplicated(keep='first')]"
   ]
  },
  {
   "cell_type": "code",
   "execution_count": 3,
   "id": "4fe1198c",
   "metadata": {
    "execution": {
     "iopub.execute_input": "2025-03-10T12:54:50.215863Z",
     "iopub.status.busy": "2025-03-10T12:54:50.215483Z",
     "iopub.status.idle": "2025-03-10T12:54:50.254980Z",
     "shell.execute_reply": "2025-03-10T12:54:50.253794Z"
    },
    "papermill": {
     "duration": 0.045078,
     "end_time": "2025-03-10T12:54:50.256748",
     "exception": false,
     "start_time": "2025-03-10T12:54:50.211670",
     "status": "completed"
    },
    "tags": []
   },
   "outputs": [
    {
     "name": "stderr",
     "output_type": "stream",
     "text": [
      "/usr/local/lib/python3.10/dist-packages/pandas/io/formats/format.py:1458: RuntimeWarning: invalid value encountered in greater\n",
      "  has_large_values = (abs_vals > 1e6).any()\n",
      "/usr/local/lib/python3.10/dist-packages/pandas/io/formats/format.py:1459: RuntimeWarning: invalid value encountered in less\n",
      "  has_small_values = ((abs_vals < 10 ** (-self.digits)) & (abs_vals > 0)).any()\n",
      "/usr/local/lib/python3.10/dist-packages/pandas/io/formats/format.py:1459: RuntimeWarning: invalid value encountered in greater\n",
      "  has_small_values = ((abs_vals < 10 ** (-self.digits)) & (abs_vals > 0)).any()\n"
     ]
    },
    {
     "data": {
      "text/html": [
       "<div>\n",
       "<style scoped>\n",
       "    .dataframe tbody tr th:only-of-type {\n",
       "        vertical-align: middle;\n",
       "    }\n",
       "\n",
       "    .dataframe tbody tr th {\n",
       "        vertical-align: top;\n",
       "    }\n",
       "\n",
       "    .dataframe thead th {\n",
       "        text-align: right;\n",
       "    }\n",
       "</style>\n",
       "<table border=\"1\" class=\"dataframe\">\n",
       "  <thead>\n",
       "    <tr style=\"text-align: right;\">\n",
       "      <th></th>\n",
       "      <th>Interior (%)</th>\n",
       "      <th>Exterior (%)</th>\n",
       "    </tr>\n",
       "    <tr>\n",
       "      <th>created_at</th>\n",
       "      <th></th>\n",
       "      <th></th>\n",
       "    </tr>\n",
       "  </thead>\n",
       "  <tbody>\n",
       "    <tr>\n",
       "      <th>2024-04-03 17:08:06</th>\n",
       "      <td>94.2</td>\n",
       "      <td>84.3</td>\n",
       "    </tr>\n",
       "    <tr>\n",
       "      <th>2024-04-03 23:10:57</th>\n",
       "      <td>93.2</td>\n",
       "      <td>91.9</td>\n",
       "    </tr>\n",
       "    <tr>\n",
       "      <th>2024-04-04 05:13:54</th>\n",
       "      <td>98.4</td>\n",
       "      <td>86.6</td>\n",
       "    </tr>\n",
       "    <tr>\n",
       "      <th>2024-04-04 11:17:07</th>\n",
       "      <td>88.6</td>\n",
       "      <td>70.6</td>\n",
       "    </tr>\n",
       "    <tr>\n",
       "      <th>2024-04-16 15:14:21</th>\n",
       "      <td>NaN</td>\n",
       "      <td>76.4</td>\n",
       "    </tr>\n",
       "  </tbody>\n",
       "</table>\n",
       "</div>"
      ],
      "text/plain": [
       "                     Interior (%)  Exterior (%)\n",
       "created_at                                     \n",
       "2024-04-03 17:08:06          94.2          84.3\n",
       "2024-04-03 23:10:57          93.2          91.9\n",
       "2024-04-04 05:13:54          98.4          86.6\n",
       "2024-04-04 11:17:07          88.6          70.6\n",
       "2024-04-16 15:14:21           NaN          76.4"
      ]
     },
     "execution_count": 3,
     "metadata": {},
     "output_type": "execute_result"
    }
   ],
   "source": [
    "#Cleaning the humidity data\n",
    "# Replace '*2*' with a comma in the 'record' column\n",
    "humidity['record'] = humidity['record'].str.replace('*2*', ',', regex=False)\n",
    "\n",
    "# Split the 'record' column and assign to new columns\n",
    "humidity[['Interior (%)', 'Exterior (%)']] = humidity['record'].str.split(',', expand=True)\n",
    "\n",
    "# Drop the 'record' column as it's no longer needed\n",
    "humidity = humidity.drop(columns=['record'])\n",
    "\n",
    "# Convert new columns to numeric types\n",
    "humidity['Interior (%)'] = pd.to_numeric(humidity['Interior (%)'], errors='coerce')\n",
    "humidity['Exterior (%)'] = pd.to_numeric(humidity['Exterior (%)'], errors='coerce')\n",
    "\n",
    "# Replace values of 2 with NaN (without inplace to avoid warnings)\n",
    "humidity['Interior (%)'] = humidity['Interior (%)'].replace(2, np.nan)\n",
    "humidity['Exterior (%)'] = humidity['Exterior (%)'].replace(2, np.nan)\n",
    "\n",
    "# Display the resulting DataFrame\n",
    "humidity.head()\n"
   ]
  },
  {
   "cell_type": "code",
   "execution_count": 4,
   "id": "8112a6f6",
   "metadata": {
    "execution": {
     "iopub.execute_input": "2025-03-10T12:54:50.264491Z",
     "iopub.status.busy": "2025-03-10T12:54:50.264109Z",
     "iopub.status.idle": "2025-03-10T12:54:50.273350Z",
     "shell.execute_reply": "2025-03-10T12:54:50.272393Z"
    },
    "papermill": {
     "duration": 0.014845,
     "end_time": "2025-03-10T12:54:50.274928",
     "exception": false,
     "start_time": "2025-03-10T12:54:50.260083",
     "status": "completed"
    },
    "tags": []
   },
   "outputs": [
    {
     "data": {
      "text/html": [
       "<div>\n",
       "<style scoped>\n",
       "    .dataframe tbody tr th:only-of-type {\n",
       "        vertical-align: middle;\n",
       "    }\n",
       "\n",
       "    .dataframe tbody tr th {\n",
       "        vertical-align: top;\n",
       "    }\n",
       "\n",
       "    .dataframe thead th {\n",
       "        text-align: right;\n",
       "    }\n",
       "</style>\n",
       "<table border=\"1\" class=\"dataframe\">\n",
       "  <thead>\n",
       "    <tr style=\"text-align: right;\">\n",
       "      <th></th>\n",
       "      <th>record</th>\n",
       "    </tr>\n",
       "    <tr>\n",
       "      <th>created_at</th>\n",
       "      <th></th>\n",
       "    </tr>\n",
       "  </thead>\n",
       "  <tbody>\n",
       "    <tr>\n",
       "      <th>2024-04-03 17:08:06</th>\n",
       "      <td>7330.0</td>\n",
       "    </tr>\n",
       "    <tr>\n",
       "      <th>2024-04-03 23:10:57</th>\n",
       "      <td>6237.0</td>\n",
       "    </tr>\n",
       "    <tr>\n",
       "      <th>2024-04-04 05:13:54</th>\n",
       "      <td>1475.0</td>\n",
       "    </tr>\n",
       "    <tr>\n",
       "      <th>2024-04-04 11:17:07</th>\n",
       "      <td>195.0</td>\n",
       "    </tr>\n",
       "    <tr>\n",
       "      <th>2024-04-16 15:14:21</th>\n",
       "      <td>231.0</td>\n",
       "    </tr>\n",
       "  </tbody>\n",
       "</table>\n",
       "</div>"
      ],
      "text/plain": [
       "                     record\n",
       "created_at                 \n",
       "2024-04-03 17:08:06  7330.0\n",
       "2024-04-03 23:10:57  6237.0\n",
       "2024-04-04 05:13:54  1475.0\n",
       "2024-04-04 11:17:07   195.0\n",
       "2024-04-16 15:14:21   231.0"
      ]
     },
     "execution_count": 4,
     "metadata": {},
     "output_type": "execute_result"
    }
   ],
   "source": [
    "#Cleaning the CO2 data\n",
    "#replacing 2 with NaN\n",
    "carbondioxide['record'] = carbondioxide.record.replace(2, np.nan)\n",
    "carbondioxide.head()"
   ]
  },
  {
   "cell_type": "code",
   "execution_count": 5,
   "id": "7b447731",
   "metadata": {
    "execution": {
     "iopub.execute_input": "2025-03-10T12:54:50.282374Z",
     "iopub.status.busy": "2025-03-10T12:54:50.282014Z",
     "iopub.status.idle": "2025-03-10T12:54:50.291278Z",
     "shell.execute_reply": "2025-03-10T12:54:50.290166Z"
    },
    "papermill": {
     "duration": 0.014869,
     "end_time": "2025-03-10T12:54:50.293060",
     "exception": false,
     "start_time": "2025-03-10T12:54:50.278191",
     "status": "completed"
    },
    "tags": []
   },
   "outputs": [
    {
     "data": {
      "text/html": [
       "<div>\n",
       "<style scoped>\n",
       "    .dataframe tbody tr th:only-of-type {\n",
       "        vertical-align: middle;\n",
       "    }\n",
       "\n",
       "    .dataframe tbody tr th {\n",
       "        vertical-align: top;\n",
       "    }\n",
       "\n",
       "    .dataframe thead th {\n",
       "        text-align: right;\n",
       "    }\n",
       "</style>\n",
       "<table border=\"1\" class=\"dataframe\">\n",
       "  <thead>\n",
       "    <tr style=\"text-align: right;\">\n",
       "      <th></th>\n",
       "      <th>record</th>\n",
       "    </tr>\n",
       "    <tr>\n",
       "      <th>created_at</th>\n",
       "      <th></th>\n",
       "    </tr>\n",
       "  </thead>\n",
       "  <tbody>\n",
       "    <tr>\n",
       "      <th>2024-04-03 17:08:06</th>\n",
       "      <td>15.0</td>\n",
       "    </tr>\n",
       "    <tr>\n",
       "      <th>2024-04-03 23:10:57</th>\n",
       "      <td>15.0</td>\n",
       "    </tr>\n",
       "    <tr>\n",
       "      <th>2024-04-04 05:13:54</th>\n",
       "      <td>15.0</td>\n",
       "    </tr>\n",
       "    <tr>\n",
       "      <th>2024-04-04 11:17:07</th>\n",
       "      <td>15.0</td>\n",
       "    </tr>\n",
       "    <tr>\n",
       "      <th>2024-04-16 15:14:21</th>\n",
       "      <td>15.0</td>\n",
       "    </tr>\n",
       "  </tbody>\n",
       "</table>\n",
       "</div>"
      ],
      "text/plain": [
       "                     record\n",
       "created_at                 \n",
       "2024-04-03 17:08:06    15.0\n",
       "2024-04-03 23:10:57    15.0\n",
       "2024-04-04 05:13:54    15.0\n",
       "2024-04-04 11:17:07    15.0\n",
       "2024-04-16 15:14:21    15.0"
      ]
     },
     "execution_count": 5,
     "metadata": {},
     "output_type": "execute_result"
    }
   ],
   "source": [
    "#Cleaning the weights data, replacing the 2 with NaN\n",
    "weights.record = weights.record.replace(2, np.nan)\n",
    "weights.head()"
   ]
  },
  {
   "cell_type": "code",
   "execution_count": 6,
   "id": "b17e8f34",
   "metadata": {
    "execution": {
     "iopub.execute_input": "2025-03-10T12:54:50.301093Z",
     "iopub.status.busy": "2025-03-10T12:54:50.300745Z",
     "iopub.status.idle": "2025-03-10T12:54:50.320840Z",
     "shell.execute_reply": "2025-03-10T12:54:50.319812Z"
    },
    "papermill": {
     "duration": 0.02609,
     "end_time": "2025-03-10T12:54:50.322679",
     "exception": false,
     "start_time": "2025-03-10T12:54:50.296589",
     "status": "completed"
    },
    "tags": []
   },
   "outputs": [
    {
     "name": "stderr",
     "output_type": "stream",
     "text": [
      "/usr/local/lib/python3.10/dist-packages/pandas/io/formats/format.py:1458: RuntimeWarning: invalid value encountered in greater\n",
      "  has_large_values = (abs_vals > 1e6).any()\n",
      "/usr/local/lib/python3.10/dist-packages/pandas/io/formats/format.py:1459: RuntimeWarning: invalid value encountered in less\n",
      "  has_small_values = ((abs_vals < 10 ** (-self.digits)) & (abs_vals > 0)).any()\n",
      "/usr/local/lib/python3.10/dist-packages/pandas/io/formats/format.py:1459: RuntimeWarning: invalid value encountered in greater\n",
      "  has_small_values = ((abs_vals < 10 ** (-self.digits)) & (abs_vals > 0)).any()\n"
     ]
    },
    {
     "data": {
      "text/html": [
       "<div>\n",
       "<style scoped>\n",
       "    .dataframe tbody tr th:only-of-type {\n",
       "        vertical-align: middle;\n",
       "    }\n",
       "\n",
       "    .dataframe tbody tr th {\n",
       "        vertical-align: top;\n",
       "    }\n",
       "\n",
       "    .dataframe thead th {\n",
       "        text-align: right;\n",
       "    }\n",
       "</style>\n",
       "<table border=\"1\" class=\"dataframe\">\n",
       "  <thead>\n",
       "    <tr style=\"text-align: right;\">\n",
       "      <th></th>\n",
       "      <th>Interior (°C)</th>\n",
       "      <th>Exterior (°C)</th>\n",
       "    </tr>\n",
       "    <tr>\n",
       "      <th>created_at</th>\n",
       "      <th></th>\n",
       "      <th></th>\n",
       "    </tr>\n",
       "  </thead>\n",
       "  <tbody>\n",
       "    <tr>\n",
       "      <th>2024-04-03 17:08:06</th>\n",
       "      <td>27.3</td>\n",
       "      <td>23.9</td>\n",
       "    </tr>\n",
       "    <tr>\n",
       "      <th>2024-04-03 23:10:57</th>\n",
       "      <td>23.7</td>\n",
       "      <td>21.2</td>\n",
       "    </tr>\n",
       "    <tr>\n",
       "      <th>2024-04-04 05:13:54</th>\n",
       "      <td>25.3</td>\n",
       "      <td>22.2</td>\n",
       "    </tr>\n",
       "    <tr>\n",
       "      <th>2024-04-04 11:17:07</th>\n",
       "      <td>29.5</td>\n",
       "      <td>28.6</td>\n",
       "    </tr>\n",
       "    <tr>\n",
       "      <th>2024-04-16 15:14:21</th>\n",
       "      <td>NaN</td>\n",
       "      <td>26.7</td>\n",
       "    </tr>\n",
       "  </tbody>\n",
       "</table>\n",
       "</div>"
      ],
      "text/plain": [
       "                     Interior (°C)  Exterior (°C)\n",
       "created_at                                       \n",
       "2024-04-03 17:08:06           27.3           23.9\n",
       "2024-04-03 23:10:57           23.7           21.2\n",
       "2024-04-04 05:13:54           25.3           22.2\n",
       "2024-04-04 11:17:07           29.5           28.6\n",
       "2024-04-16 15:14:21            NaN           26.7"
      ]
     },
     "execution_count": 6,
     "metadata": {},
     "output_type": "execute_result"
    }
   ],
   "source": [
    "#Cleaning the temperature data\n",
    "# Replace '*2*' with a comma in the 'record' column\n",
    "temperatures['record'] = temperatures['record'].str.replace('*2*', ',', regex=False)\n",
    "\n",
    "# Split the 'record' column and assign to new columns\n",
    "temperatures[['Interior (°C)', 'Exterior (°C)']] = temperatures['record'].str.split(',', expand=True)\n",
    "\n",
    "# Drop the 'record' column as it's no longer needed\n",
    "temperatures = temperatures.drop(columns=['record'])\n",
    "\n",
    "# Convert new columns to numeric types\n",
    "temperatures['Interior (°C)'] = pd.to_numeric(temperatures['Interior (°C)'], errors='coerce')\n",
    "temperatures['Exterior (°C)'] = pd.to_numeric(temperatures['Exterior (°C)'], errors='coerce')\n",
    "\n",
    "# Replace values of 2 with NaN (without inplace to avoid warnings)\n",
    "temperatures['Interior (°C)'] = temperatures['Interior (°C)'].replace(2, np.nan)\n",
    "temperatures['Exterior (°C)'] = temperatures['Exterior (°C)'].replace(2, np.nan)\n",
    "\n",
    "# Display the resulting DataFrame\n",
    "temperatures.head()\n"
   ]
  },
  {
   "cell_type": "code",
   "execution_count": 7,
   "id": "ab651769",
   "metadata": {
    "execution": {
     "iopub.execute_input": "2025-03-10T12:54:50.331059Z",
     "iopub.status.busy": "2025-03-10T12:54:50.330730Z",
     "iopub.status.idle": "2025-03-10T12:54:50.339949Z",
     "shell.execute_reply": "2025-03-10T12:54:50.338966Z"
    },
    "papermill": {
     "duration": 0.015263,
     "end_time": "2025-03-10T12:54:50.341713",
     "exception": false,
     "start_time": "2025-03-10T12:54:50.326450",
     "status": "completed"
    },
    "tags": []
   },
   "outputs": [],
   "source": [
    "# Remove NaN values from each DataFrame\n",
    "carbondioxide.dropna(inplace=True)\n",
    "humidity.dropna(inplace=True)\n",
    "temperatures.dropna(inplace=True)\n",
    "weights.dropna(inplace=True)"
   ]
  },
  {
   "cell_type": "code",
   "execution_count": null,
   "id": "31a1cbc8",
   "metadata": {
    "execution": {
     "iopub.execute_input": "2025-03-10T12:50:03.616370Z",
     "iopub.status.busy": "2025-03-10T12:50:03.616007Z",
     "iopub.status.idle": "2025-03-10T12:50:03.627040Z",
     "shell.execute_reply": "2025-03-10T12:50:03.625790Z",
     "shell.execute_reply.started": "2025-03-10T12:50:03.616339Z"
    },
    "papermill": {
     "duration": 0.003266,
     "end_time": "2025-03-10T12:54:50.348731",
     "exception": false,
     "start_time": "2025-03-10T12:54:50.345465",
     "status": "completed"
    },
    "tags": []
   },
   "outputs": [],
   "source": []
  },
  {
   "cell_type": "code",
   "execution_count": null,
   "id": "1604b7b1",
   "metadata": {
    "papermill": {
     "duration": 0.003133,
     "end_time": "2025-03-10T12:54:50.355319",
     "exception": false,
     "start_time": "2025-03-10T12:54:50.352186",
     "status": "completed"
    },
    "tags": []
   },
   "outputs": [],
   "source": []
  }
 ],
 "metadata": {
  "kaggle": {
   "accelerator": "none",
   "dataSources": [
    {
     "datasetId": 6810527,
     "sourceId": 10949102,
     "sourceType": "datasetVersion"
    }
   ],
   "dockerImageVersionId": 30918,
   "isGpuEnabled": false,
   "isInternetEnabled": true,
   "language": "python",
   "sourceType": "notebook"
  },
  "kernelspec": {
   "display_name": "Python 3",
   "language": "python",
   "name": "python3"
  },
  "language_info": {
   "codemirror_mode": {
    "name": "ipython",
    "version": 3
   },
   "file_extension": ".py",
   "mimetype": "text/x-python",
   "name": "python",
   "nbconvert_exporter": "python",
   "pygments_lexer": "ipython3",
   "version": "3.10.12"
  },
  "papermill": {
   "default_parameters": {},
   "duration": 6.863409,
   "end_time": "2025-03-10T12:54:51.079645",
   "environment_variables": {},
   "exception": null,
   "input_path": "__notebook__.ipynb",
   "output_path": "__notebook__.ipynb",
   "parameters": {},
   "start_time": "2025-03-10T12:54:44.216236",
   "version": "2.6.0"
  }
 },
 "nbformat": 4,
 "nbformat_minor": 5
}
